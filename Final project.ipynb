{
 "cells": [
  {
   "cell_type": "markdown",
   "id": "f6834630",
   "metadata": {},
   "source": [
    "# Final Project: Diabetes prediction using Random Forest"
   ]
  },
  {
   "cell_type": "markdown",
   "id": "131726e3",
   "metadata": {},
   "source": [
    "## 1. Importing libraries"
   ]
  },
  {
   "cell_type": "code",
   "execution_count": 1,
   "id": "17800c62",
   "metadata": {},
   "outputs": [],
   "source": [
    "import numpy as np # linear algebra\n",
    "import pandas as pd # to read the csv file\n",
    "import matplotlib.pyplot as plt # to plot the tree graph\n",
    "import seaborn as sns # to plot\n",
    "\n",
    "from sklearn.model_selection import train_test_split\n",
    "#      lib.module         classs\n",
    "from sklearn.ensemble import RandomForestClassifier\n",
    "from sklearn.ensemble import RandomForestRegressor\n",
    "\n",
    "\n",
    "#importing metrics classes\n",
    "#    liberary.module        #class\n",
    "from sklearn.metrics import mean_absolute_error \n",
    "from sklearn.metrics import mean_squared_error \n",
    "from sklearn.metrics import confusion_matrix"
   ]
  },
  {
   "cell_type": "markdown",
   "id": "f472c8b4",
   "metadata": {},
   "source": [
    "## 2. Reading & storing the csv file"
   ]
  },
  {
   "cell_type": "code",
   "execution_count": 4,
   "id": "51815684",
   "metadata": {},
   "outputs": [
    {
     "data": {
      "text/html": [
       "<div>\n",
       "<style scoped>\n",
       "    .dataframe tbody tr th:only-of-type {\n",
       "        vertical-align: middle;\n",
       "    }\n",
       "\n",
       "    .dataframe tbody tr th {\n",
       "        vertical-align: top;\n",
       "    }\n",
       "\n",
       "    .dataframe thead th {\n",
       "        text-align: right;\n",
       "    }\n",
       "</style>\n",
       "<table border=\"1\" class=\"dataframe\">\n",
       "  <thead>\n",
       "    <tr style=\"text-align: right;\">\n",
       "      <th></th>\n",
       "      <th>Pregnancies</th>\n",
       "      <th>Glucose</th>\n",
       "      <th>BloodPressure</th>\n",
       "      <th>SkinThickness</th>\n",
       "      <th>Insulin</th>\n",
       "      <th>BMI</th>\n",
       "      <th>DiabetesPedigreeFunction</th>\n",
       "      <th>Age</th>\n",
       "      <th>Outcome</th>\n",
       "    </tr>\n",
       "  </thead>\n",
       "  <tbody>\n",
       "    <tr>\n",
       "      <th>0</th>\n",
       "      <td>6</td>\n",
       "      <td>148</td>\n",
       "      <td>72</td>\n",
       "      <td>35</td>\n",
       "      <td>0</td>\n",
       "      <td>33.6</td>\n",
       "      <td>0.627</td>\n",
       "      <td>50</td>\n",
       "      <td>1</td>\n",
       "    </tr>\n",
       "    <tr>\n",
       "      <th>1</th>\n",
       "      <td>1</td>\n",
       "      <td>85</td>\n",
       "      <td>66</td>\n",
       "      <td>29</td>\n",
       "      <td>0</td>\n",
       "      <td>26.6</td>\n",
       "      <td>0.351</td>\n",
       "      <td>31</td>\n",
       "      <td>0</td>\n",
       "    </tr>\n",
       "    <tr>\n",
       "      <th>2</th>\n",
       "      <td>8</td>\n",
       "      <td>183</td>\n",
       "      <td>64</td>\n",
       "      <td>0</td>\n",
       "      <td>0</td>\n",
       "      <td>23.3</td>\n",
       "      <td>0.672</td>\n",
       "      <td>32</td>\n",
       "      <td>1</td>\n",
       "    </tr>\n",
       "    <tr>\n",
       "      <th>3</th>\n",
       "      <td>1</td>\n",
       "      <td>89</td>\n",
       "      <td>66</td>\n",
       "      <td>23</td>\n",
       "      <td>94</td>\n",
       "      <td>28.1</td>\n",
       "      <td>0.167</td>\n",
       "      <td>21</td>\n",
       "      <td>0</td>\n",
       "    </tr>\n",
       "    <tr>\n",
       "      <th>4</th>\n",
       "      <td>0</td>\n",
       "      <td>137</td>\n",
       "      <td>40</td>\n",
       "      <td>35</td>\n",
       "      <td>168</td>\n",
       "      <td>43.1</td>\n",
       "      <td>2.288</td>\n",
       "      <td>33</td>\n",
       "      <td>1</td>\n",
       "    </tr>\n",
       "  </tbody>\n",
       "</table>\n",
       "</div>"
      ],
      "text/plain": [
       "   Pregnancies  Glucose  BloodPressure  SkinThickness  Insulin   BMI  \\\n",
       "0            6      148             72             35        0  33.6   \n",
       "1            1       85             66             29        0  26.6   \n",
       "2            8      183             64              0        0  23.3   \n",
       "3            1       89             66             23       94  28.1   \n",
       "4            0      137             40             35      168  43.1   \n",
       "\n",
       "   DiabetesPedigreeFunction  Age  Outcome  \n",
       "0                     0.627   50        1  \n",
       "1                     0.351   31        0  \n",
       "2                     0.672   32        1  \n",
       "3                     0.167   21        0  \n",
       "4                     2.288   33        1  "
      ]
     },
     "execution_count": 4,
     "metadata": {},
     "output_type": "execute_result"
    }
   ],
   "source": [
    "df = pd.read_csv(\"diabetes.csv\")\n",
    "df.head()"
   ]
  },
  {
   "cell_type": "markdown",
   "id": "3fab1476",
   "metadata": {},
   "source": [
    "### Pregnancies: Number of times pregnant\n",
    "### Glucose: Plasma glucose concentration a 2 hours in an oral glucose tolerance test\n",
    "### BloodPressure: Diastolic blood pressure (mm Hg)\n",
    "### SkinThickness: Triceps skin fold thickness (mm)\n",
    "### Insulin: 2-Hour serum insulin (mu U/ml)\n",
    "### BMI: Body mass index (weight in kg/(height in m)^2)\n",
    "### DiabetesPedigreeFunction: Diabetes pedigree function\n",
    "### Age: Age (years)\n",
    "### Outcome: Class variable (0 or 1) where 1 has been tested positive for diabetes"
   ]
  },
  {
   "cell_type": "markdown",
   "id": "e4ee5817",
   "metadata": {},
   "source": [
    "## 3. Checking if the data needs to be cleaned or if it contains null values"
   ]
  },
  {
   "cell_type": "code",
   "execution_count": 5,
   "id": "6848c8c4",
   "metadata": {
    "scrolled": false
   },
   "outputs": [
    {
     "name": "stdout",
     "output_type": "stream",
     "text": [
      "<class 'pandas.core.frame.DataFrame'>\n",
      "RangeIndex: 768 entries, 0 to 767\n",
      "Data columns (total 9 columns):\n",
      " #   Column                    Non-Null Count  Dtype  \n",
      "---  ------                    --------------  -----  \n",
      " 0   Pregnancies               768 non-null    int64  \n",
      " 1   Glucose                   768 non-null    int64  \n",
      " 2   BloodPressure             768 non-null    int64  \n",
      " 3   SkinThickness             768 non-null    int64  \n",
      " 4   Insulin                   768 non-null    int64  \n",
      " 5   BMI                       768 non-null    float64\n",
      " 6   DiabetesPedigreeFunction  768 non-null    float64\n",
      " 7   Age                       768 non-null    int64  \n",
      " 8   Outcome                   768 non-null    int64  \n",
      "dtypes: float64(2), int64(7)\n",
      "memory usage: 54.1 KB\n"
     ]
    }
   ],
   "source": [
    "df.info()"
   ]
  },
  {
   "cell_type": "code",
   "execution_count": 15,
   "id": "4677d416",
   "metadata": {},
   "outputs": [],
   "source": [
    "# NaN values of 0 for Glucose, Blood Pressure, Skin Thickness, Insulin, BMI\n",
    "# We can write Nan instead of 0\n",
    "cols = [\"Glucose\", \"BloodPressure\", \"SkinThickness\", \"Insulin\", \"BMI\"]\n",
    "for col in cols:\n",
    "    df[col].replace(0,np.NaN,inplace=True)"
   ]
  },
  {
   "cell_type": "code",
   "execution_count": 16,
   "id": "f3601f8b",
   "metadata": {},
   "outputs": [],
   "source": [
    "# We can fill in NaN values with a median according to the target\n",
    "for col in df.columns:\n",
    "    df.loc[(df[\"Outcome\"]==0) & (df[col].isnull()),col] = df[df[\"Outcome\"]==0][col].median()\n",
    "    df.loc[(df[\"Outcome\"]==1) & (df[col].isnull()),col] = df[df[\"Outcome\"]==1][col].median()"
   ]
  },
  {
   "cell_type": "code",
   "execution_count": 17,
   "id": "81562445",
   "metadata": {},
   "outputs": [
    {
     "data": {
      "text/plain": [
       "Pregnancies                 0\n",
       "Glucose                     0\n",
       "BloodPressure               0\n",
       "SkinThickness               0\n",
       "Insulin                     0\n",
       "BMI                         0\n",
       "DiabetesPedigreeFunction    0\n",
       "Age                         0\n",
       "Outcome                     0\n",
       "dtype: int64"
      ]
     },
     "execution_count": 17,
     "metadata": {},
     "output_type": "execute_result"
    }
   ],
   "source": [
    "df.isnull().sum()"
   ]
  },
  {
   "cell_type": "markdown",
   "id": "5727bfb7",
   "metadata": {},
   "source": [
    "## 4. Making the model"
   ]
  },
  {
   "cell_type": "code",
   "execution_count": 18,
   "id": "e21118c4",
   "metadata": {},
   "outputs": [
    {
     "data": {
      "text/plain": [
       "Index(['Pregnancies', 'Glucose', 'BloodPressure', 'SkinThickness', 'Insulin',\n",
       "       'BMI', 'DiabetesPedigreeFunction', 'Age', 'Outcome'],\n",
       "      dtype='object')"
      ]
     },
     "execution_count": 18,
     "metadata": {},
     "output_type": "execute_result"
    }
   ],
   "source": [
    "df.columns"
   ]
  },
  {
   "cell_type": "code",
   "execution_count": 19,
   "id": "43778337",
   "metadata": {},
   "outputs": [],
   "source": [
    "X = df [['Pregnancies', 'Glucose', 'BloodPressure', 'SkinThickness', 'Insulin',\n",
    "       'BMI', 'DiabetesPedigreeFunction', 'Age']]\n",
    "Y = df['Outcome']"
   ]
  },
  {
   "cell_type": "code",
   "execution_count": 20,
   "id": "6baca6dc",
   "metadata": {},
   "outputs": [
    {
     "name": "stdout",
     "output_type": "stream",
     "text": [
      "X_train shape is  (614, 8)\n",
      "X_test shape is  (154, 8)\n",
      "y_train shape is  (614,)\n",
      "y_test shape is  (154,)\n"
     ]
    }
   ],
   "source": [
    "X_train, X_test, y_train, y_test = train_test_split(X, Y, test_size=0.2, random_state=44, shuffle =True)\n",
    "print('X_train shape is ' , X_train.shape)\n",
    "print('X_test shape is ' , X_test.shape)\n",
    "print('y_train shape is ' , y_train.shape)\n",
    "print('y_test shape is ' , y_test.shape)"
   ]
  },
  {
   "cell_type": "code",
   "execution_count": 21,
   "id": "1b33acfd",
   "metadata": {},
   "outputs": [
    {
     "name": "stdout",
     "output_type": "stream",
     "text": [
      "at 10 trees:\n",
      "Random Forest Regressor Train Score is :  0.9201954397394136\n",
      "Random Forest Regressor Test Score  is :  0.8701298701298701\n",
      "\n",
      "\n",
      "at 40 trees:\n",
      "Random Forest Regressor Train Score is :  0.9250814332247557\n",
      "Random Forest Regressor Test Score  is :  0.8831168831168831\n",
      "\n",
      "\n",
      "at 70 trees:\n",
      "Random Forest Regressor Train Score is :  0.9332247557003257\n",
      "Random Forest Regressor Test Score  is :  0.9025974025974026\n",
      "\n",
      "\n",
      "at 100 trees:\n",
      "Random Forest Regressor Train Score is :  0.9315960912052117\n",
      "Random Forest Regressor Test Score  is :  0.8896103896103896\n",
      "\n",
      "\n",
      "at 130 trees:\n",
      "Random Forest Regressor Train Score is :  0.9332247557003257\n",
      "Random Forest Regressor Test Score  is :  0.8896103896103896\n",
      "\n",
      "\n",
      "at 160 trees:\n",
      "Random Forest Regressor Train Score is :  0.9348534201954397\n",
      "Random Forest Regressor Test Score  is :  0.8896103896103896\n",
      "\n",
      "\n",
      "at 190 trees:\n",
      "Random Forest Regressor Train Score is :  0.9364820846905537\n",
      "Random Forest Regressor Test Score  is :  0.8896103896103896\n",
      "\n",
      "\n",
      "at 220 trees:\n",
      "Random Forest Regressor Train Score is :  0.9381107491856677\n",
      "Random Forest Regressor Test Score  is :  0.8831168831168831\n",
      "\n",
      "\n",
      "at 250 trees:\n",
      "Random Forest Regressor Train Score is :  0.9381107491856677\n",
      "Random Forest Regressor Test Score  is :  0.8896103896103896\n",
      "\n",
      "\n",
      "at 280 trees:\n",
      "Random Forest Regressor Train Score is :  0.9381107491856677\n",
      "Random Forest Regressor Test Score  is :  0.8961038961038961\n",
      "\n",
      "\n"
     ]
    }
   ],
   "source": [
    "for k in range(10,300,30):\n",
    "    RandomForestClassifierModel = RandomForestClassifier(n_estimators=k,max_depth=5,random_state=33) \n",
    "    RandomForestClassifierModel.fit(X_train, y_train)\n",
    "    print(f\"at {k} trees:\")\n",
    "    print('Random Forest Regressor Train Score is : ' , RandomForestClassifierModel.score(X_train, y_train))\n",
    "    print('Random Forest Regressor Test Score  is : ' , RandomForestClassifierModel.score(X_test, y_test))\n",
    "    print(\"\\n\")"
   ]
  },
  {
   "cell_type": "markdown",
   "id": "2aaa612b",
   "metadata": {},
   "source": [
    "### According to the above data we'll train the random forest model with 70 trees"
   ]
  },
  {
   "cell_type": "code",
   "execution_count": 23,
   "id": "2c43a6b7",
   "metadata": {},
   "outputs": [
    {
     "data": {
      "text/plain": [
       "RandomForestClassifier(max_depth=5, n_estimators=70, random_state=33)"
      ]
     },
     "execution_count": 23,
     "metadata": {},
     "output_type": "execute_result"
    }
   ],
   "source": [
    "RandomForestClassifierModel = RandomForestClassifier(n_estimators=70,max_depth=5,random_state=33) \n",
    "RandomForestClassifierModel.fit(X_train, y_train)"
   ]
  },
  {
   "cell_type": "code",
   "execution_count": 24,
   "id": "f1a11640",
   "metadata": {},
   "outputs": [
    {
     "name": "stdout",
     "output_type": "stream",
     "text": [
      "Predicted Value for RandomForestClassifierModel is :  [0 1 1 0 1 1 0 0 0 1]\n"
     ]
    },
    {
     "data": {
      "text/plain": [
       "452    0\n",
       "370    1\n",
       "746    1\n",
       "122    0\n",
       "614    1\n",
       "231    1\n",
       "460    0\n",
       "83     0\n",
       "734    0\n",
       "766    1\n",
       "Name: Outcome, dtype: int64"
      ]
     },
     "execution_count": 24,
     "metadata": {},
     "output_type": "execute_result"
    }
   ],
   "source": [
    "#Calculating Prediction\n",
    "y_pred = RandomForestClassifierModel.predict(X_test)\n",
    "print('Predicted Value for RandomForestClassifierModel is : ' , y_pred[:10])\n",
    "y_test[:10]"
   ]
  },
  {
   "cell_type": "code",
   "execution_count": 25,
   "id": "fa96c85f",
   "metadata": {},
   "outputs": [
    {
     "name": "stdout",
     "output_type": "stream",
     "text": [
      "Confusion Matrix is : \n",
      " [[82  8]\n",
      " [ 7 57]]\n"
     ]
    },
    {
     "data": {
      "image/png": "[encoded data removed]",
      "text/plain": [
       "<Figure size 432x288 with 2 Axes>"
      ]
     },
     "metadata": {
      "needs_background": "light"
     },
     "output_type": "display_data"
    }
   ],
   "source": [
    "#Calculating Confusion Matrix\n",
    "CM = confusion_matrix(y_test, y_pred)\n",
    "print('Confusion Matrix is : \\n', CM)\n",
    "\n",
    "# drawing confusion matrix\n",
    "sns.heatmap(CM, center = True)\n",
    "plt.show()"
   ]
  },
  {
   "cell_type": "code",
   "execution_count": null,
   "id": "4097e0e3",
   "metadata": {},
   "outputs": [],
   "source": []
  }
 ],
 "metadata": {
  "kernelspec": {
   "display_name": "Python 3 (ipykernel)",
   "language": "python",
   "name": "python3"
  },
  "language_info": {
   "codemirror_mode": {
    "name": "ipython",
    "version": 3
   },
   "file_extension": ".py",
   "mimetype": "text/x-python",
   "name": "python",
   "nbconvert_exporter": "python",
   "pygments_lexer": "ipython3",
   "version": "3.9.12"
  }
 },
 "nbformat": 4,
 "nbformat_minor": 5
}
